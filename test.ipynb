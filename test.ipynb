{
 "cells": [
  {
   "cell_type": "code",
   "execution_count": 1,
   "metadata": {},
   "outputs": [],
   "source": [
    "%load_ext autoreload\n",
    "%autoreload 2"
   ]
  },
  {
   "cell_type": "code",
   "execution_count": 1,
   "metadata": {},
   "outputs": [],
   "source": [
    "import yaml"
   ]
  },
  {
   "cell_type": "code",
   "execution_count": 17,
   "metadata": {},
   "outputs": [
    {
     "name": "stdout",
     "output_type": "stream",
     "text": [
      "{'settings_version': '0.0.4', 'datasets_dir': '/home/edoardo/datasets', 'weights_dir': 'weights', 'runs_dir': 'runs', 'uuid': '2256ebddf0cf27adf64439362eda00395adbb942528622a888d9a5b32822ab1e', 'sync': True, 'api_key': '', 'openai_api_key': '', 'clearml': True, 'comet': True, 'dvc': True, 'hub': True, 'mlflow': True, 'neptune': True, 'raytune': True, 'tensorboard': True, 'wandb': True}\n",
      "{'settings_version': '0.0.4', 'datasets_dir': '/home/edoardo/aiproject/aaa', 'weights_dir': 'weights', 'runs_dir': 'runs', 'uuid': '2256ebddf0cf27adf64439362eda00395adbb942528622a888d9a5b32822ab1e', 'sync': True, 'api_key': '', 'openai_api_key': '', 'clearml': True, 'comet': True, 'dvc': True, 'hub': True, 'mlflow': True, 'neptune': True, 'raytune': True, 'tensorboard': True, 'wandb': True}\n"
     ]
    }
   ],
   "source": [
    "from pathlib import Path\n",
    "import os\n",
    "\n",
    "y = None\n",
    "with open(f\"{Path.home()}/.config/Ultralytics/settings.yaml\") as stream:\n",
    "    this_path = os.path.join(os.getcwd(), \"aaa\")\n",
    "    try:\n",
    "        y = yaml.safe_load(stream)\n",
    "        print(y)\n",
    "        y[\"datasets_dir\"] = this_path\n",
    "        print(y)\n",
    "        # yaml.safe_dump(y, stream)\n",
    "    except yaml.YAMLError as exc:\n",
    "        print(exc)\n",
    "\n",
    "with open(f\"{Path.home()}/.config/Ultralytics/settings.yaml\", \"w\") as f:\n",
    "    yaml.dump(y, f)"
   ]
  },
  {
   "cell_type": "code",
   "execution_count": null,
   "metadata": {},
   "outputs": [],
   "source": []
  }
 ],
 "metadata": {
  "kernelspec": {
   "display_name": "aiproject",
   "language": "python",
   "name": "python3"
  },
  "language_info": {
   "codemirror_mode": {
    "name": "ipython",
    "version": 3
   },
   "file_extension": ".py",
   "mimetype": "text/x-python",
   "name": "python",
   "nbconvert_exporter": "python",
   "pygments_lexer": "ipython3",
   "version": "3.10.0"
  }
 },
 "nbformat": 4,
 "nbformat_minor": 2
}
